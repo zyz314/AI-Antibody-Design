{
  "nbformat": 4,
  "nbformat_minor": 0,
  "metadata": {
    "colab": {
      "provenance": [],
      "authorship_tag": "ABX9TyMrOvoAOutb+Mt1GIxpzWil",
      "include_colab_link": true
    },
    "kernelspec": {
      "name": "python3",
      "display_name": "Python 3"
    },
    "language_info": {
      "name": "python"
    }
  },
  "cells": [
    {
      "cell_type": "markdown",
      "metadata": {
        "id": "view-in-github",
        "colab_type": "text"
      },
      "source": [
        "<a href=\"https://colab.research.google.com/github/zyz314/AI-Antibody-Design/blob/main/project_1.ipynb\" target=\"_parent\"><img src=\"https://colab.research.google.com/assets/colab-badge.svg\" alt=\"Open In Colab\"/></a>"
      ]
    },
    {
      "cell_type": "code",
      "execution_count": null,
      "metadata": {
        "id": "1iiqUGyve5Hp"
      },
      "outputs": [],
      "source": [
        "\"\"\"\"\"\"\n",
        "\"\"\"Assess a betting strategy.\n",
        "\n",
        "Copyright 2018, Georgia Institute of Technology (Georgia Tech)\n",
        "Atlanta, Georgia 30332\n",
        "All Rights Reserved\n",
        "\n",
        "Template code for CS 4646/7646\n",
        "\n",
        "Georgia Tech asserts copyright ownership of this template and all derivative\n",
        "works, including solutions to the projects assigned in this course. Students\n",
        "and other users of this template code are advised not to share it with others\n",
        "or to make it available on publicly viewable websites including repositories\n",
        "such as github and gitlab.  This copyright statement should not be removed\n",
        "or edited.\n",
        "\n",
        "We do grant permission to share solutions privately with non-students such\n",
        "as potential employers. However, sharing with other current or future\n",
        "students of CS 7646 is prohibited and subject to being investigated as a\n",
        "GT honor code violation.\n",
        "\n",
        "-----do not edit anything above this line---\n",
        "\n",
        "Student Name: Tucker Balch (replace with your name)\n",
        "GT User ID: tb34 (replace with your User ID)\n",
        "GT ID: 900897987 (replace with your GT ID)\n",
        "\"\"\"\n",
        "\n",
        "import numpy as np\n",
        "import random\n",
        "import matplotlib.pyplot as plt\n",
        "import math\n",
        "\n",
        "\n",
        "def author():\n",
        "    \"\"\"\n",
        "    :return: The GT username of the student\n",
        "    :rtype: str\n",
        "    \"\"\"\n",
        "    return \"yzheng438\"  # replace tb34 with your Georgia Tech username.\n",
        "\n",
        "\n",
        "def gtid():\n",
        "    \"\"\"\n",
        "    :return: The GT ID of the student\n",
        "    :rtype: int\n",
        "    \"\"\"\n",
        "    return 903649243  # replace with your GT ID number\n",
        "\n",
        "\n"
      ]
    },
    {
      "cell_type": "code",
      "source": [
        "\t#实现一个简单的赌博模拟器：\n",
        "#模拟美国轮盘赌，计算赢/输的概率。\n",
        "#使用伪代码中的策略进行模拟。\n",
        "  def get_spin_result(win_prob):\n",
        "     \"\"\"\n",
        "    Given a win probability between 0 and 1, the function returns whether the probability will result in a win.\n",
        "\n",
        "    :param win_prob: The probability of winning\n",
        "    :type win_prob: float\n",
        "    :return: The result of the spin.\n",
        "    :rtype: bool\n",
        "    \"\"\"\n",
        "\n",
        "\n",
        "    result = False\n",
        "    win_prob = 18/38   #\n",
        "    if np.random.random() <= win_prob:\n",
        "        result = True\n",
        "    return result\n",
        "\n"
      ],
      "metadata": {
        "id": "bEPNLhPepiX8"
      },
      "execution_count": null,
      "outputs": []
    },
    {
      "cell_type": "code",
      "source": [
        "def martingale_simulation(spins, win_prob = 18/38):\n",
        "  winnings[spins] = 0\n",
        "  episode_winnings = 0\n",
        "  bet_amount = 1\n",
        "  spin = 0\n",
        "\n",
        "  while spin < spins and episode_winning < 80:\n",
        "    won = False\n",
        "    while spin < spins and episode_winning < 80 and not won:\n",
        "      spin = spin + 1\n",
        "      won = get_spin_result(win_prob)\n",
        "      if spin < spins and episode_wining < 80 and won:\n",
        "        episode_winnings = episode_winnings + bet_amount\n",
        "      else:\n",
        "        episode_winnings = episode_winnings - bet_amount\n",
        "        bet_amount = bet_amount * 2\n",
        "      winnings[spin] = episode_winnings\n",
        "\n",
        "# 测试函数\n",
        "win_prob = 18 / 38\n",
        "spins = 1000\n",
        "winnings = martingale_simulation(spins, win_prob)\n",
        "print(winnings[spins])\n",
        "\n",
        "\n",
        "\n",
        "\n",
        "\n",
        "\n",
        "\n",
        "\n",
        "\n",
        "\n",
        " # Experiment 2 – A More Realistic Gambling Simulator\n",
        "# Introduce a $256 bankroll limit.\n",
        "# Figure 4: Run 1000 episodes, plot mean winnings per spin with standard deviation lines.\n",
        "# Figure 5: Similar to Figure 4 but plot the median instead of the mean.\n",
        "\n"
      ],
      "metadata": {
        "colab": {
          "base_uri": "https://localhost:8080/",
          "height": 332
        },
        "id": "BkwIVDSgpioD",
        "outputId": "9d492c59-a981-49bb-e987-113ec76df5a8"
      },
      "execution_count": null,
      "outputs": [
        {
          "output_type": "error",
          "ename": "NameError",
          "evalue": "name 'winnings' is not defined",
          "traceback": [
            "\u001b[0;31m---------------------------------------------------------------------------\u001b[0m",
            "\u001b[0;31mNameError\u001b[0m                                 Traceback (most recent call last)",
            "\u001b[0;32m<ipython-input-5-27f659a31848>\u001b[0m in \u001b[0;36m<cell line: 22>\u001b[0;34m()\u001b[0m\n\u001b[1;32m     20\u001b[0m \u001b[0mwin_prob\u001b[0m \u001b[0;34m=\u001b[0m \u001b[0;36m18\u001b[0m \u001b[0;34m/\u001b[0m \u001b[0;36m38\u001b[0m\u001b[0;34m\u001b[0m\u001b[0;34m\u001b[0m\u001b[0m\n\u001b[1;32m     21\u001b[0m \u001b[0mspins\u001b[0m \u001b[0;34m=\u001b[0m \u001b[0;36m1000\u001b[0m\u001b[0;34m\u001b[0m\u001b[0;34m\u001b[0m\u001b[0m\n\u001b[0;32m---> 22\u001b[0;31m \u001b[0mwinnings\u001b[0m \u001b[0;34m=\u001b[0m \u001b[0mmartingale_simulation\u001b[0m\u001b[0;34m(\u001b[0m\u001b[0mspins\u001b[0m\u001b[0;34m,\u001b[0m \u001b[0mwin_prob\u001b[0m\u001b[0;34m)\u001b[0m\u001b[0;34m\u001b[0m\u001b[0;34m\u001b[0m\u001b[0m\n\u001b[0m\u001b[1;32m     23\u001b[0m \u001b[0mprint\u001b[0m\u001b[0;34m(\u001b[0m\u001b[0mwinnings\u001b[0m\u001b[0;34m[\u001b[0m\u001b[0mspins\u001b[0m\u001b[0;34m]\u001b[0m\u001b[0;34m)\u001b[0m\u001b[0;34m\u001b[0m\u001b[0;34m\u001b[0m\u001b[0m\n\u001b[1;32m     24\u001b[0m \u001b[0;34m\u001b[0m\u001b[0m\n",
            "\u001b[0;32m<ipython-input-5-27f659a31848>\u001b[0m in \u001b[0;36mmartingale_simulation\u001b[0;34m(spins, win_prob)\u001b[0m\n\u001b[1;32m      1\u001b[0m \u001b[0;32mdef\u001b[0m \u001b[0mmartingale_simulation\u001b[0m\u001b[0;34m(\u001b[0m\u001b[0mspins\u001b[0m\u001b[0;34m,\u001b[0m \u001b[0mwin_prob\u001b[0m \u001b[0;34m=\u001b[0m \u001b[0;36m18\u001b[0m\u001b[0;34m/\u001b[0m\u001b[0;36m38\u001b[0m\u001b[0;34m)\u001b[0m\u001b[0;34m:\u001b[0m\u001b[0;34m\u001b[0m\u001b[0;34m\u001b[0m\u001b[0m\n\u001b[0;32m----> 2\u001b[0;31m   \u001b[0mwinnings\u001b[0m\u001b[0;34m[\u001b[0m\u001b[0mspins\u001b[0m\u001b[0;34m]\u001b[0m \u001b[0;34m=\u001b[0m \u001b[0;36m0\u001b[0m\u001b[0;34m\u001b[0m\u001b[0;34m\u001b[0m\u001b[0m\n\u001b[0m\u001b[1;32m      3\u001b[0m   \u001b[0mepisode_winnings\u001b[0m \u001b[0;34m=\u001b[0m \u001b[0;36m0\u001b[0m\u001b[0;34m\u001b[0m\u001b[0;34m\u001b[0m\u001b[0m\n\u001b[1;32m      4\u001b[0m   \u001b[0mbet_amount\u001b[0m \u001b[0;34m=\u001b[0m \u001b[0;36m1\u001b[0m\u001b[0;34m\u001b[0m\u001b[0;34m\u001b[0m\u001b[0m\n\u001b[1;32m      5\u001b[0m   \u001b[0mspin\u001b[0m \u001b[0;34m=\u001b[0m \u001b[0;36m0\u001b[0m\u001b[0;34m\u001b[0m\u001b[0;34m\u001b[0m\u001b[0m\n",
            "\u001b[0;31mNameError\u001b[0m: name 'winnings' is not defined"
          ]
        }
      ]
    },
    {
      "cell_type": "code",
      "source": [
        "#Figure 1\n",
        " # Experiment 1 – Explore the Strategy and Create Charts\n",
        "\n",
        "# Figure 1: Run 10 episodes, track winnings from 0 each time, and plot all episodes on one chart (X-axis: 0-300, Y-axis: -256 to +100).\n",
        "def figure_1(results):\n",
        "        # 运行模拟实验\n",
        "    for i in range(10):  # 为每次模拟创建一条线\n",
        "        plt.plot(results[i, :], label=f'Episode {i + 1}')  # 绘制线条\n",
        "    plt.title('Figure_1: 10 Simulations Results')  # 添加标题\n",
        "    plt.xlabel('Spins')  # 添加x轴标签\n",
        "    plt.ylabel('Episode Winning')  # 添加y轴标签\n",
        "    plt.xlim(0, 300)  # 设置x轴的显示范围为0到300\n",
        "    plt.ylim(-256, 100)  # 设置y轴的显示范围为-256到100\n",
        "    plt.legend()  # 添加图例\n",
        "    plt.savefig(\"images/figure_1.png\")  # 先保存图形\n",
        "    plt.show()  # 显示图形\n"
      ],
      "metadata": {
        "id": "6tiLfx7qpiut"
      },
      "execution_count": null,
      "outputs": []
    },
    {
      "cell_type": "code",
      "source": [
        "# Figure 2: Run 1000 episodes, plot the mean winnings per spin with standard deviation lines.\n",
        "def figure_2(results):\n",
        "\n",
        "    mean = results.mean(axis=0)  # 计算每次旋转的平均赢得金额\n",
        "    std_dev = results.std(axis=0)  # 计算每次旋转的赢得金额的标准差\n",
        "    plt.plot(mean, label='Mean')  # 绘制平均线\n",
        "    plt.plot(mean + std_dev, label='Mean + Std Dev')  # 绘制平均值加标准差的线\n",
        "    plt.plot(mean - std_dev, label='Mean - Std Dev')  # 绘制平均值减标准差的线\n",
        "    plt.title('Figure 2: Mean and Standard Deviation')  # 添加标题\n",
        "\n",
        "    plt.xlabel('Spins')  # 添加x轴标签\n",
        "    plt.ylabel('Episode Winning')  # 添加y轴标签\n",
        "    plt.xlim(0, 300)\n",
        "    plt.ylim(-256, 100)\n",
        "    plt.legend()  # 添加图例\n",
        "    plt.savefig(\"images/Figure_2.png\")\n",
        "    plt.show()  # 显示图形"
      ],
      "metadata": {
        "id": "eUrMqhyQ7eP4"
      },
      "execution_count": null,
      "outputs": []
    },
    {
      "cell_type": "code",
      "source": [
        "# Figure 3: Similar to Figure 2 but plot the median instead of the mean.\n",
        "    # 运行1000次模拟，这里我们重用了前面的结果\n",
        "def figure_3(results):\n",
        "    median = np.median(results, axis=0)  # 计算每次旋转的赢得金额的中位数\n",
        "    std_dev = results.std(axis=0)  # 计算每次旋转的赢得金额的标准差\n",
        "    plt.plot(median, label='Median')  # 绘制中位数线\n",
        "    plt.plot(median + std_dev, label='Median + Std Dev')  # 绘制中位数加标准差的线\n",
        "    plt.plot(median - std_dev, label='Median - Std Dev')  # 绘制中位数减标准差的线\n",
        "    plt.title('Figure 3: Median and Standard Deviation')  # 添加标题\n",
        "    plt.xlim(0, 300)\n",
        "    plt.ylim(-256, 100)\n",
        "    plt.xlabel('Spins')  # 添加x轴标签\n",
        "    plt.ylabel('Episode Winning')  # 添加y轴标签\n",
        "    plt.legend()  # 添加图例\n",
        "    plt.savefig(\"images/Figure_3.png\")\n",
        "    plt.show()  # 显示图形"
      ],
      "metadata": {
        "id": "bCh-FsjR7fMj"
      },
      "execution_count": null,
      "outputs": []
    },
    {
      "cell_type": "code",
      "source": [
        "\n",
        "def test_code():\n",
        "    \"\"\"\n",
        "    Method to test your code\n",
        "    \"\"\"\n",
        "    win_prob = 0.60  # set appropriately to the probability of a win\n",
        "    np.random.seed(gtid())  # do this only once\n",
        "    print(get_spin_result(win_prob))  # test the roulette spin\n",
        "    # add your code here to implement the experiments\n",
        "\n",
        "\n",
        "if __name__ == \"__main__\":\n",
        "    test_code()"
      ],
      "metadata": {
        "id": "sgedOVuCqCXF"
      },
      "execution_count": null,
      "outputs": []
    }
  ]
}