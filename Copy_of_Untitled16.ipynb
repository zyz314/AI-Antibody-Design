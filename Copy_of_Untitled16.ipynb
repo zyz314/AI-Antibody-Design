{
  "nbformat": 4,
  "nbformat_minor": 0,
  "metadata": {
    "colab": {
      "provenance": [],
      "authorship_tag": "ABX9TyP+5ndaJlu2SUtiuIPjFit1",
      "include_colab_link": true
    },
    "kernelspec": {
      "name": "python3",
      "display_name": "Python 3"
    },
    "language_info": {
      "name": "python"
    }
  },
  "cells": [
    {
      "cell_type": "markdown",
      "metadata": {
        "id": "view-in-github",
        "colab_type": "text"
      },
      "source": [
        "<a href=\"https://colab.research.google.com/github/zyz314/AI-Antibody-Design/blob/main/Copy_of_Untitled16.ipynb\" target=\"_parent\"><img src=\"https://colab.research.google.com/assets/colab-badge.svg\" alt=\"Open In Colab\"/></a>"
      ]
    },
    {
      "cell_type": "code",
      "execution_count": 13,
      "metadata": {
        "id": "1iiqUGyve5Hp"
      },
      "outputs": [],
      "source": [
        "\"\"\"\"\"\"\n",
        "\"\"\"Assess a betting strategy.\n",
        "\n",
        "Copyright 2018, Georgia Institute of Technology (Georgia Tech)\n",
        "Atlanta, Georgia 30332\n",
        "All Rights Reserved\n",
        "\n",
        "Template code for CS 4646/7646\n",
        "\n",
        "Georgia Tech asserts copyright ownership of this template and all derivative\n",
        "works, including solutions to the projects assigned in this course. Students\n",
        "and other users of this template code are advised not to share it with others\n",
        "or to make it available on publicly viewable websites including repositories\n",
        "such as github and gitlab.  This copyright statement should not be removed\n",
        "or edited.\n",
        "\n",
        "We do grant permission to share solutions privately with non-students such\n",
        "as potential employers. However, sharing with other current or future\n",
        "students of CS 7646 is prohibited and subject to being investigated as a\n",
        "GT honor code violation.\n",
        "\n",
        "-----do not edit anything above this line---\n",
        "\n",
        "Student Name: Tucker Balch (replace with your name)\n",
        "GT User ID: tb34 (replace with your User ID)\n",
        "GT ID: 900897987 (replace with your GT ID)\n",
        "\"\"\"\n",
        "\n",
        "import numpy as np\n",
        "import random\n",
        "import matplotlib.pyplot as plt\n",
        "import math\n",
        "\n",
        "\n",
        "def author():\n",
        "    \"\"\"\n",
        "    :return: The GT username of the student\n",
        "    :rtype: str\n",
        "    \"\"\"\n",
        "    return \"yzheng438\"  # replace tb34 with your Georgia Tech username.\n",
        "\n",
        "\n",
        "def gtid():\n",
        "    \"\"\"\n",
        "    :return: The GT ID of the student\n",
        "    :rtype: int\n",
        "    \"\"\"\n",
        "    return 903649243  # replace with your GT ID number\n",
        "\n",
        "\n"
      ]
    },
    {
      "cell_type": "code",
      "source": [
        "\t#实现一个简单的赌博模拟器：\n",
        "#模拟美国轮盘赌，计算赢/输的概率。\n",
        "#使用伪代码中的策略进行模拟。\n",
        "\n",
        "\n",
        "def get_spin_result(win_prob):\n",
        "     \"\"\"\n",
        "    Given a win probability between 0 and 1, the function returns whether the probability will result in a win.\n",
        "\n",
        "    :param win_prob: The probability of winning\n",
        "    :type win_prob: float\n",
        "    :return: The result of the spin.\n",
        "    :rtype: bool\n",
        "    \"\"\"\n",
        "\n",
        "  spin_result = False\n",
        "  if np.random.random() <= win_prob:\n",
        "      spin_result = True\n",
        "  return spin_result\n",
        "\n",
        "np.random.seed(gtid())\n",
        "win_prob = 18 / 38\n",
        "\n"
      ],
      "metadata": {
        "id": "bEPNLhPepiX8",
        "colab": {
          "base_uri": "https://localhost:8080/",
          "height": 110
        },
        "outputId": "3bac33a5-3ef0-4839-b570-296aa252c685"
      },
      "execution_count": 15,
      "outputs": [
        {
          "output_type": "error",
          "ename": "IndentationError",
          "evalue": "unindent does not match any outer indentation level (<tokenize>, line 16)",
          "traceback": [
            "\u001b[0;36m  File \u001b[0;32m\"<tokenize>\"\u001b[0;36m, line \u001b[0;32m16\u001b[0m\n\u001b[0;31m    spin_result = False\u001b[0m\n\u001b[0m    ^\u001b[0m\n\u001b[0;31mIndentationError\u001b[0m\u001b[0;31m:\u001b[0m unindent does not match any outer indentation level\n"
          ]
        }
      ]
    },
    {
      "cell_type": "code",
      "source": [
        "def expirment1_martingale_simulation(total_spins_time, win_prob, initial_money = 0):\n",
        "  winnings[spin_time(0)] = np.zeros(total_spins_time +1)# 初始化结果数组\n",
        "  episode_winnings = initial_money\n",
        "  bet_amount = 1\n",
        "  spin_time = 0\n",
        "  win_prob = 18 / 38\n",
        "  target_winnings = initial_money + 80\n",
        "\n",
        "  while spin_time < total_spins_time and episode_winnings < target_winnings:\n",
        "    won = False\n",
        "    while spin_time < total_spins_time and episode_winnings < target_winnings and not won:\n",
        "      spin_time = spin_time + 1\n",
        "      won = get_spin_result(win_prob)\n",
        "      if spin_time < spins_time and episode_wining < target_winnings and won:\n",
        "        episode_winnings = episode_winnings + bet_amount\n",
        "        bet_amount = 1\n",
        "      else:\n",
        "        episode_winnings = episode_winnings - bet_amount\n",
        "        bet_amount = bet_amount * 2\n",
        "      winnings[spin_time] = episode_winnings\n",
        "  return winnings\n",
        "\n",
        "\n",
        "\n"
      ],
      "metadata": {
        "id": "BkwIVDSgpioD"
      },
      "execution_count": 16,
      "outputs": []
    },
    {
      "cell_type": "code",
      "source": [
        "#运行模拟实验\n",
        "# Experiment 1 – Explore the Strategy and Create Charts\n",
        "\n",
        "# Figure 1: Run 10 episodes, track winnings from 0 each time, and plot all episodes on one chart (X-axis: 0-300, Y-axis: -256 to +100).\n",
        "def plt_figure_1(experiment_1_results):\n",
        "    for i in range(10):  # 为每次模拟创建一条线\n",
        "      plt.plot(experiment_1_results[i, :301])  # 绘制线条\n",
        "    plt.title('Figure 1: Experiment 1, 10 Simulations Results')  # 添加标题\n",
        "    plt.xlabel('Spins Times')  # 添加x轴标签\n",
        "    plt.ylabel('Episode Winning')  # 添加y轴标签\n",
        "    plt.xlim(0, 300)  # 设置x轴的显示范围为0到300\n",
        "    plt.ylim(-256, 100)  # 设置y轴的显示范围为-256到100\n",
        "    plt.legend([f'Episode {i + 1}' for i in range(10)])  # 添加图例\n",
        "    plt.savefig(\"images/figure_1.png\")  # 先保存图形\n",
        "    #plt.show()  # 显示图形\n",
        "    plt.clf()  # 清空当前图形，准备绘制下一个\n"
      ],
      "metadata": {
        "id": "6tiLfx7qpiut"
      },
      "execution_count": 17,
      "outputs": []
    },
    {
      "cell_type": "code",
      "source": [],
      "metadata": {
        "id": "iADPI66WR1pm"
      },
      "execution_count": null,
      "outputs": []
    },
    {
      "cell_type": "code",
      "source": [
        "# Figure 2: Run 1000 episodes, plot the mean winnings per spin with standard deviation lines.\n",
        "def plt_figure_2(experiment_1_results):\n",
        "  mean = experiment_1_results.mean(axis=0)  # 计算每次旋转的平均赢得金额\n",
        "  std_dev = experiment_1_results.std(axis=0)  # 计算每次旋转的赢得金额的标准差\n",
        "  for i in range(1000):\n",
        "    plt.plot(mean, label='Mean',color = 'blue')  # 绘制平均线\n",
        "    plt.plot(mean + std_dev, label='Mean + Std Dev', color = 'red')  # 绘制平均值加标准差的线\n",
        "    plt.plot(mean - std_dev, label='Mean - Std Dev', color = 'green')  # 绘制平均值减标准差的线\n",
        "    plt.title('Figure 2: Experiment 1, Mean and Standard Deviation')  # 添加标题\n",
        "\n",
        "    plt.xlabel('Spins Times')  # 添加x轴标签\n",
        "    plt.ylabel('Episode Winning')  # 添加y轴标签\n",
        "    plt.xlim(0, 300)\n",
        "    plt.ylim(-256, 100)\n",
        "    plt.legend(['Mean', 'Mean + Standard Deviation', 'Mean - Standard Deviation'])  # 添加图例\n",
        "    plt.savefig(\"images/Figure_2.png\")\n",
        "    #plt.show()  # 显示图形\n",
        "    plt.clf()  # 清空当前图形，准备绘制下一个\n"
      ],
      "metadata": {
        "id": "eUrMqhyQ7eP4"
      },
      "execution_count": null,
      "outputs": []
    },
    {
      "cell_type": "code",
      "source": [
        "# Figure 3: Similar to Figure 2 but plot the median instead of the mean.\n",
        "    # 运行1000次模拟，这里我们重用了前面的结果\n",
        "def plt_figure_3(experiment_1_results):\n",
        "    median = np.median(experiment_1_results, axis=0)  # 计算每次旋转的赢得金额的中位数\n",
        "    std_dev = experiment_1_results.std(axis=0)  # 计算每次旋转的赢得金额的标准差\n",
        "    for i in range(1000):\n",
        "\n",
        "        plt.plot(median, label='Median', color = 'blue')  # 绘制中位数线\n",
        "        plt.plot(median + std_dev, label='Median + Std Dev', color = 'red')  # 绘制中位数加标准差的线\n",
        "        plt.plot(median - std_dev, label='Median - Std Dev', color = 'green',)  # 绘制中位数减标准差的线\n",
        "        plt.title('Figure 3: Experiment 1 Median and Standard Deviation')  # 添加标题\n",
        "        plt.xlim(0, 300)\n",
        "        plt.ylim(-256, 100)\n",
        "        plt.xlabel('Spins Times')  # 添加x轴标签\n",
        "        plt.ylabel('Episode Winning')  # 添加y轴标签\n",
        "        plt.legend()  # 添加图例\n",
        "        plt.savefig(\"images/Figure_3.png\")\n",
        "        #plt.show()  # 显示图形\n",
        "        plt.clf()  # 清空当前图形，准备绘制下一个"
      ],
      "metadata": {
        "id": "bCh-FsjR7fMj"
      },
      "execution_count": null,
      "outputs": []
    },
    {
      "cell_type": "code",
      "source": [
        "\n",
        " # Experiment 2 – A More Realistic Gambling Simulator\n",
        "# Introduce a $256 bankroll limit.\\\n",
        "\n",
        "def expirment2_martingale_simulation(spin_time, total_spins_time, win_prob=18/38, initial_money = 256 ):\n",
        "  winnings[spins_time(0)] = np.zeros(total_spins_time + 1)  # 初始化结果数组\n",
        "  episode_winnings = initial_money\n",
        "  bet_amount = 1\n",
        "  spin_time = 0\n",
        "  win_prob = 18 / 38\n",
        "  target_winnings = initial_money + 80\n",
        "\n",
        "  while spin_time < total_spins_time and 0 < episode_winnings < target_winnings:\n",
        "    won = False\n",
        "    while spin_time < total_spins_time and episode_winnings < target_winnings and not won:\n",
        "      spin_time = spin_time + 1\n",
        "      won = get_spin_result(win_prob)\n",
        "      if spin_time < spins_time and 0 < episode_wining < target_winnings and won:\n",
        "        episode_winnings = episode_winnings + bet_amount\n",
        "        bet_amount = 1\n",
        "      else:\n",
        "        episode_winnings = episode_winnings - bet_amount\n",
        "        bet_amount = bet_amount * 2\n",
        "      winnings[spin_time] = episode_winnings # 记录当前收益\n",
        "  if spin_time < total_spins_time:    # 填充剩余的值\n",
        "    winnings[spin_time + 1:] = episode_winnings\n",
        "\n",
        "  return winnings\n",
        "\n",
        "\n"
      ],
      "metadata": {
        "colab": {
          "base_uri": "https://localhost:8080/",
          "height": 332
        },
        "outputId": "9d492c59-a981-49bb-e987-113ec76df5a8",
        "id": "Y69k7px_fMSQ"
      },
      "execution_count": null,
      "outputs": [
        {
          "output_type": "error",
          "ename": "NameError",
          "evalue": "name 'winnings' is not defined",
          "traceback": [
            "\u001b[0;31m---------------------------------------------------------------------------\u001b[0m",
            "\u001b[0;31mNameError\u001b[0m                                 Traceback (most recent call last)",
            "\u001b[0;32m<ipython-input-5-27f659a31848>\u001b[0m in \u001b[0;36m<cell line: 22>\u001b[0;34m()\u001b[0m\n\u001b[1;32m     20\u001b[0m \u001b[0mwin_prob\u001b[0m \u001b[0;34m=\u001b[0m \u001b[0;36m18\u001b[0m \u001b[0;34m/\u001b[0m \u001b[0;36m38\u001b[0m\u001b[0;34m\u001b[0m\u001b[0;34m\u001b[0m\u001b[0m\n\u001b[1;32m     21\u001b[0m \u001b[0mspins\u001b[0m \u001b[0;34m=\u001b[0m \u001b[0;36m1000\u001b[0m\u001b[0;34m\u001b[0m\u001b[0;34m\u001b[0m\u001b[0m\n\u001b[0;32m---> 22\u001b[0;31m \u001b[0mwinnings\u001b[0m \u001b[0;34m=\u001b[0m \u001b[0mmartingale_simulation\u001b[0m\u001b[0;34m(\u001b[0m\u001b[0mspins\u001b[0m\u001b[0;34m,\u001b[0m \u001b[0mwin_prob\u001b[0m\u001b[0;34m)\u001b[0m\u001b[0;34m\u001b[0m\u001b[0;34m\u001b[0m\u001b[0m\n\u001b[0m\u001b[1;32m     23\u001b[0m \u001b[0mprint\u001b[0m\u001b[0;34m(\u001b[0m\u001b[0mwinnings\u001b[0m\u001b[0;34m[\u001b[0m\u001b[0mspins\u001b[0m\u001b[0;34m]\u001b[0m\u001b[0;34m)\u001b[0m\u001b[0;34m\u001b[0m\u001b[0;34m\u001b[0m\u001b[0m\n\u001b[1;32m     24\u001b[0m \u001b[0;34m\u001b[0m\u001b[0m\n",
            "\u001b[0;32m<ipython-input-5-27f659a31848>\u001b[0m in \u001b[0;36mmartingale_simulation\u001b[0;34m(spins, win_prob)\u001b[0m\n\u001b[1;32m      1\u001b[0m \u001b[0;32mdef\u001b[0m \u001b[0mmartingale_simulation\u001b[0m\u001b[0;34m(\u001b[0m\u001b[0mspins\u001b[0m\u001b[0;34m,\u001b[0m \u001b[0mwin_prob\u001b[0m \u001b[0;34m=\u001b[0m \u001b[0;36m18\u001b[0m\u001b[0;34m/\u001b[0m\u001b[0;36m38\u001b[0m\u001b[0;34m)\u001b[0m\u001b[0;34m:\u001b[0m\u001b[0;34m\u001b[0m\u001b[0;34m\u001b[0m\u001b[0m\n\u001b[0;32m----> 2\u001b[0;31m   \u001b[0mwinnings\u001b[0m\u001b[0;34m[\u001b[0m\u001b[0mspins\u001b[0m\u001b[0;34m]\u001b[0m \u001b[0;34m=\u001b[0m \u001b[0;36m0\u001b[0m\u001b[0;34m\u001b[0m\u001b[0;34m\u001b[0m\u001b[0m\n\u001b[0m\u001b[1;32m      3\u001b[0m   \u001b[0mepisode_winnings\u001b[0m \u001b[0;34m=\u001b[0m \u001b[0;36m0\u001b[0m\u001b[0;34m\u001b[0m\u001b[0;34m\u001b[0m\u001b[0m\n\u001b[1;32m      4\u001b[0m   \u001b[0mbet_amount\u001b[0m \u001b[0;34m=\u001b[0m \u001b[0;36m1\u001b[0m\u001b[0;34m\u001b[0m\u001b[0;34m\u001b[0m\u001b[0m\n\u001b[1;32m      5\u001b[0m   \u001b[0mspin\u001b[0m \u001b[0;34m=\u001b[0m \u001b[0;36m0\u001b[0m\u001b[0;34m\u001b[0m\u001b[0;34m\u001b[0m\u001b[0m\n",
            "\u001b[0;31mNameError\u001b[0m: name 'winnings' is not defined"
          ]
        }
      ]
    },
    {
      "cell_type": "code",
      "source": [
        "# Figure 4: Run 1000 episodes, plot mean winnings per spin with standard deviation lines.\n",
        "# 运行1000次模拟\n",
        "\n",
        "\n",
        "# Figure 4\n",
        "def plt_figure_4(expirment_2_results):\n",
        "    mean = expirment_2_results.mean(axis=0)\n",
        "    std_dev = expirment_2_results.std(axis=0)\n",
        "    mean_plus_sd = mean + std_dev\n",
        "    mean_minus_sd = mean - std_dev\n",
        "    for i in range(1000):\n",
        "        plt.plot(mean, color = 'blue', label='Mean')\n",
        "        plt.plot(mean_plus_sd, color = 'red', label='Mean + Standard Deviation')\n",
        "        plt.plot(mean_minus_sd , color = 'green', label='Mean - Standard Deviation')\n",
        "        plt.title('Figure 4: Mean and Standard Deviation')\n",
        "        plt.xlabel('Spins Times')\n",
        "        plt.ylabel('Episode Winning')\n",
        "        plt.legend(['Mean', 'Mean + Standard Deviation', 'Mean - Standard Deviation'])\n",
        "        plt.xlim((0, 300))\n",
        "        plt.ylim(-256, 100)\n",
        "        plt.savefig(\"images/Figure_4.png\")\n",
        "        #plt.show()\n",
        "        plt.clf()  # 清空当前图形，准备绘制下一个\n"
      ],
      "metadata": {
        "id": "KcwgIWgK-cvt"
      },
      "execution_count": null,
      "outputs": []
    },
    {
      "cell_type": "code",
      "source": [
        "# Figure 5: Similar to Figure 4 but plot the median instead of the mean.\n",
        "def plt_figure_5(expirment_2_results):\n",
        "    median = expirment_2_results.median(axis=1)\n",
        "    std_dev = expirment_2_results.std(axis=1)\n",
        "    mean_plus_sd = mean +std_dev\n",
        "    mean_minus_sd = mean - std_dev\n",
        "    plt.plot(mean, color = 'blue', label='Mean')\n",
        "    plt.plot(mean_plus_sd, color = 'red', label='median + Standard Deviation')\n",
        "    plt.plot(mean_minus_sd , color = 'green', label='median - Standard Deviation')\n",
        "    plt.title('Figure 5: median and Standard Deviation')\n",
        "    plt.xlabel('Spins Times')\n",
        "    plt.ylabel('Episode Winning')\n",
        "    plt.legend(['Median', 'Median + Standard Deviation', 'Median - Standard Deviation'])\n",
        "    plt.xlim((0, 300))\n",
        "    plt.ylim((-256, 100))\n",
        "    plt.savefig(\"images/Figure_5.png\")\n",
        "    #plt.show()\n",
        "    plt.clf()  # 清空当前图形，准备绘制下一个"
      ],
      "metadata": {
        "id": "qPc9cy1A-c3t"
      },
      "execution_count": null,
      "outputs": []
    },
    {
      "cell_type": "code",
      "source": [
        "\n",
        "def test_code():\n",
        "    \"\"\"\n",
        "    Method to test your code\n",
        "    \"\"\"\n",
        "    win_prob = 0.60  # set appropriately to the probability of a win\n",
        "    np.random.seed(gtid())  # do this only once\n",
        "    print(get_spin_result(win_prob))  # test the roulette spin\n",
        "    # add your code here to implement the experiments\n",
        "\n",
        "\n",
        "if __name__ == \"__main__\":\n",
        "    test_code()"
      ],
      "metadata": {
        "id": "sgedOVuCqCXF"
      },
      "execution_count": null,
      "outputs": []
    }
  ]
}